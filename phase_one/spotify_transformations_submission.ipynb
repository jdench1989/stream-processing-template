{
 "cells": [
  {
   "cell_type": "code",
   "execution_count": 1,
   "metadata": {},
   "outputs": [
    {
     "name": "stderr",
     "output_type": "stream",
     "text": [
      "Setting default log level to \"WARN\".\n",
      "To adjust logging level use sc.setLogLevel(newLevel). For SparkR, use setLogLevel(newLevel).\n",
      "23/12/12 14:49:45 WARN NativeCodeLoader: Unable to load native-hadoop library for your platform... using builtin-java classes where applicable\n",
      "/usr/local/lib/python3.7/site-packages/pyspark/context.py:317: FutureWarning: Python 3.7 support is deprecated in Spark 3.4.\n",
      "  warnings.warn(\"Python 3.7 support is deprecated in Spark 3.4.\", FutureWarning)\n",
      "                                                                                \r"
     ]
    }
   ],
   "source": [
    "import csv \n",
    "from pyspark.sql import SparkSession\n",
    "\n",
    "spark = SparkSession.builder.appName(\"SpotifySongs\").getOrCreate()\n",
    "\n",
    "df = spark.read.csv(\"../assets/data/spotify-2023.csv\", header=True, inferSchema=True)"
   ]
  },
  {
   "cell_type": "code",
   "execution_count": 41,
   "metadata": {},
   "outputs": [
    {
     "name": "stdout",
     "output_type": "stream",
     "text": [
      "+--------------------+--------------------+------------+-------------+--------------+------------+--------------------+-----------------+----------+------------------+---------------+-------------------+----------------+----------------+---+----+-----+--------------+---------+--------+--------------+------------------+----------+-------------+\n",
      "|          track_name|      artist(s)_name|artist_count|released_year|released_month|released_day|in_spotify_playlists|in_spotify_charts|   streams|in_apple_playlists|in_apple_charts|in_deezer_playlists|in_deezer_charts|in_shazam_charts|bpm| key| mode|danceability_%|valence_%|energy_%|acousticness_%|instrumentalness_%|liveness_%|speechiness_%|\n",
      "+--------------------+--------------------+------------+-------------+--------------+------------+--------------------+-----------------+----------+------------------+---------------+-------------------+----------------+----------------+---+----+-----+--------------+---------+--------+--------------+------------------+----------+-------------+\n",
      "|Seven (feat. Latt...|    Latto, Jung Kook|           2|         2023|             7|          14|                 553|              147| 141381703|                43|            263|                 45|              10|             826|125|   B|Major|            80|       89|      83|            31|                 0|         8|            4|\n",
      "|                LALA|         Myke Towers|           1|         2023|             3|          23|                1474|               48| 133716286|                48|            126|                 58|              14|             382| 92|  C#|Major|            71|       61|      74|             7|                 0|        10|            4|\n",
      "|             vampire|      Olivia Rodrigo|           1|         2023|             6|          30|                1397|              113| 140003974|                94|            207|                 91|              14|             949|138|   F|Major|            51|       32|      53|            17|                 0|        31|            6|\n",
      "|        Cruel Summer|        Taylor Swift|           1|         2019|             8|          23|                7858|              100| 800840817|               116|            207|                125|              12|             548|170|   A|Major|            55|       58|      72|            11|                 0|        11|           15|\n",
      "|      WHERE SHE GOES|           Bad Bunny|           1|         2023|             5|          18|                3133|               50| 303236322|                84|            133|                 87|              15|             425|144|   A|Minor|            65|       23|      80|            14|                63|        11|            6|\n",
      "|            Sprinter|   Dave, Central Cee|           2|         2023|             6|           1|                2186|               91| 183706234|                67|            213|                 88|              17|             946|141|  C#|Major|            92|       66|      58|            19|                 0|         8|           24|\n",
      "|     Ella Baila Sola|Eslabon Armado, P...|           2|         2023|             3|          16|                3090|               50| 725980112|                34|            222|                 43|              13|             418|148|   F|Minor|            67|       83|      76|            48|                 0|         8|            3|\n",
      "|            Columbia|             Quevedo|           1|         2023|             7|           7|                 714|               43|  58149378|                25|             89|                 30|              13|             194|100|   F|Major|            67|       26|      71|            37|                 0|        11|            4|\n",
      "|            fukumean|               Gunna|           1|         2023|             5|          15|                1096|               83|  95217315|                60|            210|                 48|              11|             953|130|  C#|Minor|            85|       22|      62|            12|                 0|        28|            9|\n",
      "|     La Bebe - Remix|Peso Pluma, Yng L...|           2|         2023|             3|          17|                2953|               44| 553634067|                49|            110|                 66|              13|             339|170|   D|Minor|            81|       56|      48|            21|                 0|         8|           33|\n",
      "|           un x100to|Bad Bunny, Grupo ...|           2|         2023|             4|          17|                2876|               40| 505671438|                41|            205|                 54|              12|             251| 83|  F#|Minor|            57|       56|      72|            23|                 0|        27|            5|\n",
      "|           Super Shy|            NewJeans|           1|         2023|             7|           7|                 422|               55|  58255150|                37|            202|                 21|               5|             168|150|   F|Minor|            78|       52|      82|            18|                 0|        15|            7|\n",
      "|             Flowers|         Miley Cyrus|           1|         2023|             1|          12|               12211|              115|1316855716|               300|            215|                745|              58|           1,021|118|null|Major|            71|       65|      68|             6|                 0|         3|            7|\n",
      "|            Daylight|       David Kushner|           1|         2023|             4|          14|                3528|               98| 387570742|                80|            156|                182|              24|           1,281|130|   D|Minor|            51|       32|      43|            83|                 0|         9|            3|\n",
      "|           As It Was|        Harry Styles|           1|         2022|             3|          31|               23575|              130|2513188493|               403|            198|                863|              46|            null|174|  F#|Minor|            52|       66|      73|            34|                 0|        31|            6|\n",
      "|           Kill Bill|                 SZA|           1|         2022|            12|           8|                8109|               77|1163093654|               183|            162|                161|              12|             187| 89|  G#|Major|            64|       43|      73|             5|                17|        16|            4|\n",
      "|   Cupid - Twin Ver.|         Fifty Fifty|           1|         2023|             2|          24|                2942|               77| 496795686|                91|            212|                 78|               6|               0|120|   B|Minor|            78|       76|      59|            43|                 0|        34|            3|\n",
      "|\"What Was I Made ...|       Billie Eilish|           1|         2023|             7|          13|                 873|              104|  30546883|                80|            227|                 95|              24|           1,173| 78|null|Major|            44|       14|       9|            96|                 0|        10|            3|\n",
      "|          Classy 101|    Feid, Young Miko|           2|         2023|             3|          31|                2610|               40| 335222234|                43|            100|                 54|              14|             187|100|   B|Major|            86|       67|      66|            14|                 0|        12|           16|\n",
      "|          Like Crazy|               Jimin|           1|         2023|             3|          24|                 596|               68| 363369738|                 8|            104|                 23|               2|              29|120|   G|Major|            63|       36|      73|             0|                 0|        36|            4|\n",
      "+--------------------+--------------------+------------+-------------+--------------+------------+--------------------+-----------------+----------+------------------+---------------+-------------------+----------------+----------------+---+----+-----+--------------+---------+--------+--------------+------------------+----------+-------------+\n",
      "only showing top 20 rows\n",
      "\n"
     ]
    }
   ],
   "source": [
    "df.show()"
   ]
  },
  {
   "cell_type": "markdown",
   "metadata": {},
   "source": [
    "1. Most Streamed & Highest Ranking Tracks:\n",
    "\n",
    "- Identify the top 5 tracks with the highest number of streams in 2023.\n",
    "- Identify the top 5 ranking tracks across all platforms.\n",
    "- Is there any crossover between these two findings?"
   ]
  },
  {
   "cell_type": "code",
   "execution_count": 39,
   "metadata": {},
   "outputs": [
    {
     "name": "stdout",
     "output_type": "stream",
     "text": [
      "+-----------------+--------------+----------+\n",
      "|       track_name|artist(s)_name|   streams|\n",
      "+-----------------+--------------+----------+\n",
      "|Take Me To Church|        Hozier|2135158446|\n",
      "|          Circles|   Post Malone|2132335812|\n",
      "|    Love Yourself| Justin Bieber|2123309722|\n",
      "|        All of Me|   John Legend|2086124197|\n",
      "|   Counting Stars|   OneRepublic|2011464183|\n",
      "+-----------------+--------------+----------+\n",
      "\n"
     ]
    }
   ],
   "source": [
    "top_5_streams = df.select(\"track_name\", \"artist(s)_name\", \"streams\").orderBy(df.streams.cast('int').desc()).limit(5)\n",
    "\n",
    "top_5_streams.show()\n"
   ]
  }
 ],
 "metadata": {
  "kernelspec": {
   "display_name": "Python 3",
   "language": "python",
   "name": "python3"
  },
  "language_info": {
   "codemirror_mode": {
    "name": "ipython",
    "version": 3
   },
   "file_extension": ".py",
   "mimetype": "text/x-python",
   "name": "python",
   "nbconvert_exporter": "python",
   "pygments_lexer": "ipython3",
   "version": "3.7.16"
  }
 },
 "nbformat": 4,
 "nbformat_minor": 2
}
