{
 "cells": [
  {
   "cell_type": "code",
   "execution_count": 44,
   "metadata": {},
   "outputs": [],
   "source": [
    "import csv \n",
    "from pyspark.sql import SparkSession\n",
    "\n",
    "spark = SparkSession.builder.appName(\"SpotifySongs\").getOrCreate()\n",
    "\n",
    "df = spark.read.csv(\"../assets/data/spotify-2023.csv\", header=True, inferSchema=True)"
   ]
  },
  {
   "cell_type": "code",
   "execution_count": 36,
   "metadata": {},
   "outputs": [
    {
     "data": {
      "text/plain": [
       "[('track_name', 'string'),\n",
       " ('artist(s)_name', 'string'),\n",
       " ('artist_count', 'int'),\n",
       " ('released_year', 'int'),\n",
       " ('released_month', 'int'),\n",
       " ('released_day', 'int'),\n",
       " ('in_spotify_playlists', 'int'),\n",
       " ('in_spotify_charts', 'int'),\n",
       " ('streams', 'string'),\n",
       " ('in_apple_playlists', 'int'),\n",
       " ('in_apple_charts', 'int'),\n",
       " ('in_deezer_playlists', 'string'),\n",
       " ('in_deezer_charts', 'int'),\n",
       " ('in_shazam_charts', 'string'),\n",
       " ('bpm', 'int'),\n",
       " ('key', 'string'),\n",
       " ('mode', 'string'),\n",
       " ('danceability_%', 'int'),\n",
       " ('valence_%', 'int'),\n",
       " ('energy_%', 'int'),\n",
       " ('acousticness_%', 'int'),\n",
       " ('instrumentalness_%', 'int'),\n",
       " ('liveness_%', 'int'),\n",
       " ('speechiness_%', 'int')]"
      ]
     },
     "execution_count": 36,
     "metadata": {},
     "output_type": "execute_result"
    }
   ],
   "source": [
    "df.dtypes"
   ]
  },
  {
   "cell_type": "markdown",
   "metadata": {},
   "source": [
    "1. ## Most Streamed & Highest Ranking Tracks:\n",
    "\n",
    "- Identify the top 5 tracks with the highest number of streams in 2023."
   ]
  },
  {
   "cell_type": "code",
   "execution_count": 24,
   "metadata": {},
   "outputs": [
    {
     "name": "stdout",
     "output_type": "stream",
     "text": [
      "+-----------------+--------------+----------+\n",
      "|       track_name|artist(s)_name|   streams|\n",
      "+-----------------+--------------+----------+\n",
      "|Take Me To Church|        Hozier|2135158446|\n",
      "|          Circles|   Post Malone|2132335812|\n",
      "|    Love Yourself| Justin Bieber|2123309722|\n",
      "|        All of Me|   John Legend|2086124197|\n",
      "|   Counting Stars|   OneRepublic|2011464183|\n",
      "+-----------------+--------------+----------+\n",
      "\n",
      "+--------------------+--------------------+----------+\n",
      "|          track_name|      artist(s)_name|   streams|\n",
      "+--------------------+--------------------+----------+\n",
      "|             Flowers|         Miley Cyrus|1316855716|\n",
      "|     Ella Baila Sola|Eslabon Armado, P...| 725980112|\n",
      "|Shakira: Bzrp Mus...|   Shakira, Bizarrap| 721975598|\n",
      "|                 TQG|    Karol G, Shakira| 618990393|\n",
      "|     La Bebe - Remix|Peso Pluma, Yng L...| 553634067|\n",
      "+--------------------+--------------------+----------+\n",
      "\n"
     ]
    }
   ],
   "source": [
    "top_5_by_streams = df.select(\"track_name\", \"artist(s)_name\", \"streams\").orderBy(df.streams.cast('int').desc()).limit(5)\n",
    "\n",
    "top_5_by_streams.show()\n",
    "\n",
    "top_5_by_streams_released_2023 = df.select(\"track_name\", \"artist(s)_name\", \"streams\").filter(df.released_year == 2023).orderBy(df.streams.cast('int').desc()).limit(5)\n",
    "\n",
    "top_5_by_streams_released_2023.show()\n"
   ]
  },
  {
   "cell_type": "markdown",
   "metadata": {},
   "source": [
    "- Identify the top 5 ranking tracks across all platforms."
   ]
  },
  {
   "cell_type": "code",
   "execution_count": 25,
   "metadata": {},
   "outputs": [
    {
     "name": "stdout",
     "output_type": "stream",
     "text": [
      "+--------------------+-----------------+---------------------+\n",
      "|          track_name|   artist(s)_name|total_charts_presence|\n",
      "+--------------------+-----------------+---------------------+\n",
      "|             vampire|   Olivia Rodrigo|               1283.0|\n",
      "|            Sprinter|Dave, Central Cee|               1267.0|\n",
      "|            fukumean|            Gunna|               1257.0|\n",
      "|Seven (feat. Latt...| Latto, Jung Kook|               1246.0|\n",
      "|              Tattoo|           Loreen|               1104.0|\n",
      "+--------------------+-----------------+---------------------+\n",
      "\n"
     ]
    }
   ],
   "source": [
    "chart_presence_df = df.withColumn(\"total_charts_presence\", df.in_spotify_charts + df.in_apple_charts + df.in_deezer_charts + df.in_shazam_charts).select(\"track_name\", \"artist(s)_name\", \"total_charts_presence\")\n",
    "\n",
    "chart_presence_df.orderBy(chart_presence_df.total_charts_presence.desc()).limit(5).show()"
   ]
  },
  {
   "cell_type": "markdown",
   "metadata": {},
   "source": [
    "- Is there any crossover between these two findings?\n",
    "\n",
    "There does not seem to be any crossover between the top 5 most streamed songs and the songs that appeared in the most charts. "
   ]
  },
  {
   "cell_type": "markdown",
   "metadata": {},
   "source": [
    "2. ## Artists with Most Tracks in Spotify Charts:\n",
    "\n",
    "Group by the artist's name and count how many of their tracks made it to the Spotify charts. Display the top 10 artists."
   ]
  },
  {
   "cell_type": "code",
   "execution_count": 35,
   "metadata": {},
   "outputs": [
    {
     "name": "stdout",
     "output_type": "stream",
     "text": [
      "+--------------+-----+\n",
      "|artist(s)_name|count|\n",
      "+--------------+-----+\n",
      "|  Taylor Swift|   22|\n",
      "|     Bad Bunny|   12|\n",
      "|  Harry Styles|   10|\n",
      "|    The Weeknd|    8|\n",
      "|          Feid|    7|\n",
      "| Morgan Wallen|    6|\n",
      "|    Ed Sheeran|    6|\n",
      "|      NewJeans|    6|\n",
      "|Olivia Rodrigo|    5|\n",
      "|       Karol G|    4|\n",
      "+--------------+-----+\n",
      "\n"
     ]
    }
   ],
   "source": [
    "most_tracks_in_spotify_charts = df.select('artist(s)_name').filter(df.in_spotify_charts != 0).groupBy(\"artist(s)_name\").count().orderBy(\"count\", ascending=False).limit(10)\n",
    "most_tracks_in_spotify_charts.show()"
   ]
  },
  {
   "cell_type": "markdown",
   "metadata": {},
   "source": [
    "3. ## Filter and Select Attributes of Danceable Tracks:\n",
    "- Extract tracks with a danceability percentage of more than 80% and display their name, artist, bpm (beats per minute), and danceability percentage.\n",
    "- Identify any possible correlation between danceability and bpm."
   ]
  },
  {
   "cell_type": "code",
   "execution_count": 45,
   "metadata": {},
   "outputs": [
    {
     "name": "stdout",
     "output_type": "stream",
     "text": [
      "+--------------------+--------------------+---+--------------+\n",
      "|          track_name|      artist(s)_name|bpm|danceability_%|\n",
      "+--------------------+--------------------+---+--------------+\n",
      "|                Peru|Ed Sheeran, Fireb...|108|            96|\n",
      "| The Real Slim Shady|              Eminem|104|            95|\n",
      "|             Players|           Coi Leray|105|            95|\n",
      "|               CAIRO|Karol G, Ovy On T...|115|            95|\n",
      "|   Super Freaky Girl|         Nicki Minaj|133|            95|\n",
      "|           Starlight|                Dave|124|            95|\n",
      "|            Ai Preto|L7nnon, DJ Biel d...|130|            95|\n",
      "|         Slut Me Out|          NLE Choppa|121|            94|\n",
      "|        Shorty Party|Cartel De Santa, ...| 96|            93|\n",
      "|Gol Bolinha, Gol ...| Mc Pedrinho, DJ 900|133|            93|\n",
      "|    Forgot About Dre|     Eminem, Dr. Dre|134|            93|\n",
      "|sentaDONA (Remix) s2|Lu��sa Sonza, MC ...|135|            93|\n",
      "|  Privileged Rappers|    Drake, 21 Savage|144|            93|\n",
      "|          Without Me|              Eminem|112|            92|\n",
      "|            AMARGURA|             Karol G|107|            92|\n",
      "|Link Up (Metro Bo...|WizKid, Toian, Me...|101|            92|\n",
      "|            Sprinter|   Dave, Central Cee|141|            92|\n",
      "|            DESPECH�|              ROSAL�|130|            92|\n",
      "|        Hey, Mickey!|           Baby Tate|135|            92|\n",
      "|    The Next Episode| Dr. Dre, Snoop Dogg| 95|            92|\n",
      "+--------------------+--------------------+---+--------------+\n",
      "only showing top 20 rows\n",
      "\n",
      "Correlation between 'bpm' and 'danceability_%': 0.016846197056881177\n"
     ]
    }
   ],
   "source": [
    "danceable_tracks = df.select(\"track_name\", \"artist(s)_name\", \"bpm\", \"danceability_%\").filter(df[\"danceability_%\"] > 80).orderBy(df[\"danceability_%\"].desc())\n",
    "danceable_tracks.show()\n",
    "correlation = danceable_tracks.stat.corr('bpm', 'danceability_%')\n",
    "\n",
    "print(\"Correlation between 'bpm' and 'danceability_%':\", correlation)"
   ]
  }
 ],
 "metadata": {
  "kernelspec": {
   "display_name": "Python 3",
   "language": "python",
   "name": "python3"
  },
  "language_info": {
   "codemirror_mode": {
    "name": "ipython",
    "version": 3
   },
   "file_extension": ".py",
   "mimetype": "text/x-python",
   "name": "python",
   "nbconvert_exporter": "python",
   "pygments_lexer": "ipython3",
   "version": "3.7.16"
  }
 },
 "nbformat": 4,
 "nbformat_minor": 2
}
