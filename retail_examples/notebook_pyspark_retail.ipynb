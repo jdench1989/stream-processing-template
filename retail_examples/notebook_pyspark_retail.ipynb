{
 "cells": [
  {
   "cell_type": "code",
   "execution_count": 1,
   "metadata": {},
   "outputs": [
    {
     "name": "stderr",
     "output_type": "stream",
     "text": [
      "23/12/13 12:18:24 WARN NativeCodeLoader: Unable to load native-hadoop library for your platform... using builtin-java classes where applicable\n",
      "Setting default log level to \"WARN\".\n",
      "To adjust logging level use sc.setLogLevel(newLevel). For SparkR, use setLogLevel(newLevel).\n",
      "/usr/local/lib/python3.7/site-packages/pyspark/context.py:317: FutureWarning: Python 3.7 support is deprecated in Spark 3.4.\n",
      "  warnings.warn(\"Python 3.7 support is deprecated in Spark 3.4.\", FutureWarning)\n"
     ]
    }
   ],
   "source": [
    "from pyspark.sql import SparkSession\n",
    "from pyspark.sql.types import StringType, StructType, StructField, TimestampType, IntegerType\n",
    "from pyspark.sql.functions import from_json, col\n",
    "\n",
    "# Define the path to the jars on the EC2 instance\n",
    "spark_jars_path = \"/home/ec2-user/stream-processing-template/jars\"  # <-- Update this path\n",
    "\n",
    "spark = SparkSession.builder.appName(\"retail_pysaprk_consumer\") \\\n",
    "    .config(\"spark.jars\", f\"{spark_jars_path}/commons-pool2-2.11.1.jar,\"\n",
    "            f\"{spark_jars_path}/spark-sql-kafka-0-10_2.12-3.4.0.jar,\"\n",
    "            f\"{spark_jars_path}/spark-streaming-kafka-0-10-assembly_2.12-3.4.0.jar\") \\\n",
    "    .getOrCreate()\n"
   ]
  },
  {
   "cell_type": "code",
   "execution_count": 2,
   "metadata": {},
   "outputs": [],
   "source": [
    "# Define the schema for our data\n",
    "schema = StructType([\n",
    "    StructField(\"store_location\", StringType(), True),\n",
    "    StructField(\"time_of_purchase\", TimestampType(), True),\n",
    "    StructField(\"product_ID\", StringType(), True),\n",
    "    StructField(\"transaction_amount\", IntegerType(), True)\n",
    "])\n",
    "\n",
    "# Stream from Kafka topic\n",
    "df = spark.readStream \\\n",
    "    .format(\"kafka\") \\\n",
    "    .option(\"kafka.bootstrap.servers\", \"b-1.monstercluster1.6xql65.c3.kafka.eu-west-2.amazonaws.com:9092\") \\\n",
    "    .option(\"subscribe\", \"retail_transactions\") \\\n",
    "    .load()"
   ]
  },
  {
   "cell_type": "code",
   "execution_count": 3,
   "metadata": {},
   "outputs": [
    {
     "name": "stderr",
     "output_type": "stream",
     "text": [
      "23/12/13 12:18:35 WARN ResolveWriteToStream: Temporary checkpoint location created which is deleted normally when the query didn't fail: /tmp/temporary-97624c1c-9cdd-4bd8-8a81-ae2162b13186. If it's required to delete it under any circumstances, please set spark.sql.streaming.forceDeleteTempCheckpointLocation to true. Important to know deleting temp checkpoint folder is best effort.\n",
      "23/12/13 12:18:35 WARN ResolveWriteToStream: spark.sql.adaptive.enabled is not supported in streaming DataFrames/Datasets and will be disabled.\n",
      "23/12/13 12:18:38 WARN AdminClientConfig: These configurations '[key.deserializer, value.deserializer, enable.auto.commit, max.poll.records, auto.offset.reset]' were supplied but are not used yet.\n",
      "                                                                                \r"
     ]
    },
    {
     "data": {
      "text/plain": [
       "False"
      ]
     },
     "execution_count": 3,
     "metadata": {},
     "output_type": "execute_result"
    }
   ],
   "source": [
    "transactions = (df.selectExpr(\"CAST(value AS STRING)\")\n",
    "                .withColumn(\"data\", from_json(col(\"value\"), schema))\n",
    "                .select(\"data.*\"))\n",
    "\n",
    "query = transactions.writeStream \\\n",
    ".format(\"memory\") \\\n",
    ".queryName(\"temporary_view_one\") \\\n",
    ".start()\n",
    "\n",
    "query.awaitTermination(15)"
   ]
  },
  {
   "cell_type": "code",
   "execution_count": 4,
   "metadata": {},
   "outputs": [
    {
     "name": "stderr",
     "output_type": "stream",
     "text": [
      "                                                                                \r"
     ]
    },
    {
     "name": "stdout",
     "output_type": "stream",
     "text": [
      "+--------------+-------------------+----------+------------------+\n",
      "|store_location|   time_of_purchase|product_ID|transaction_amount|\n",
      "+--------------+-------------------+----------+------------------+\n",
      "|       Chicago|2023-12-13 12:18:39|    P00046|               306|\n",
      "|       Phoenix|2023-12-13 12:18:41|    P00052|               452|\n",
      "|       Chicago|2023-12-13 12:18:43|    P00058|               527|\n",
      "|       Chicago|2023-12-13 12:18:46|    P00012|               426|\n",
      "|       Phoenix|2023-12-13 12:18:48|    P00092|               621|\n",
      "|       Houston|2023-12-13 12:18:51|    P00054|               775|\n",
      "+--------------+-------------------+----------+------------------+\n",
      "\n"
     ]
    }
   ],
   "source": [
    "processed_data = spark.sql(\"SELECT * FROM temporary_view_one\")\n",
    "processed_data.show()"
   ]
  },
  {
   "cell_type": "code",
   "execution_count": 5,
   "metadata": {},
   "outputs": [],
   "source": [
    "from pyspark.sql.functions import col\n",
    "from pyspark.sql.types import DoubleType\n",
    "from pyspark.sql.functions import sum, avg, dayofyear, hour\n",
    "\n",
    "transactions = processed_data.withColumn(\"transaction_amount\", col(\"transaction_amount\").cast(DoubleType()))"
   ]
  },
  {
   "cell_type": "code",
   "execution_count": 37,
   "metadata": {},
   "outputs": [
    {
     "data": {
      "text/plain": [
       "6985"
      ]
     },
     "execution_count": 37,
     "metadata": {},
     "output_type": "execute_result"
    }
   ],
   "source": [
    "transactions.count()"
   ]
  },
  {
   "cell_type": "markdown",
   "metadata": {},
   "source": [
    "# Transformations\n",
    "Aggregations:\n",
    "- Total transaction amounts by store location\n",
    "- Number of transactions by store location\n",
    "- Average transation amount by store location"
   ]
  },
  {
   "cell_type": "code",
   "execution_count": 38,
   "metadata": {},
   "outputs": [
    {
     "name": "stdout",
     "output_type": "stream",
     "text": [
      "+--------------+------------+\n",
      "|store_location|total_amount|\n",
      "+--------------+------------+\n",
      "|       Phoenix|    442452.0|\n",
      "|   San Antonio|    424024.0|\n",
      "|  Philadelphia|    467557.0|\n",
      "|   Los Angeles|    460512.0|\n",
      "|       Chicago|    445426.0|\n",
      "|       Houston|    468806.0|\n",
      "|      New York|    444183.0|\n",
      "+--------------+------------+\n",
      "\n"
     ]
    }
   ],
   "source": [
    "total_transactions = transactions.groupBy(\"store_location\").agg(sum(\"transaction_amount\").alias(\"total_amount\"))\n",
    "total_transactions.show()"
   ]
  },
  {
   "cell_type": "code",
   "execution_count": 39,
   "metadata": {},
   "outputs": [
    {
     "name": "stdout",
     "output_type": "stream",
     "text": [
      "+--------------+-----------------+\n",
      "|store_location|transaction_count|\n",
      "+--------------+-----------------+\n",
      "|       Phoenix|              970|\n",
      "|   San Antonio|              981|\n",
      "|  Philadelphia|             1015|\n",
      "|   Los Angeles|              999|\n",
      "|       Chicago|              992|\n",
      "|       Houston|             1039|\n",
      "|      New York|              989|\n",
      "+--------------+-----------------+\n",
      "\n"
     ]
    }
   ],
   "source": [
    "transaction_counts = transactions.groupBy(\"store_location\").count().withColumnRenamed(\"count\", \"transaction_count\")\n",
    "transaction_counts.show()"
   ]
  },
  {
   "cell_type": "code",
   "execution_count": 40,
   "metadata": {},
   "outputs": [
    {
     "name": "stdout",
     "output_type": "stream",
     "text": [
      "+--------------+------------------+\n",
      "|store_location|    average_amount|\n",
      "+--------------+------------------+\n",
      "|       Phoenix| 456.1360824742268|\n",
      "|   San Antonio| 432.2364933741081|\n",
      "|  Philadelphia| 460.6472906403941|\n",
      "|   Los Angeles|460.97297297297297|\n",
      "|       Chicago| 449.0181451612903|\n",
      "|       Houston|451.20885466794994|\n",
      "|      New York| 449.1233569261881|\n",
      "+--------------+------------------+\n",
      "\n"
     ]
    }
   ],
   "source": [
    "average_transactions = transactions.groupBy(\"store_location\").agg(avg(\"transaction_amount\").alias(\"average_amount\"))\n",
    "average_transactions.show()"
   ]
  },
  {
   "cell_type": "markdown",
   "metadata": {},
   "source": [
    "Time Series Analysis\n",
    "- Transactions per hour/day to understand peak sales times\n",
    "- Total or average transactions amounts over time"
   ]
  },
  {
   "cell_type": "code",
   "execution_count": 41,
   "metadata": {},
   "outputs": [
    {
     "name": "stdout",
     "output_type": "stream",
     "text": [
      "+---+----+-----+-------------------------+-----------------------------+\n",
      "|day|hour|count|total_transactions_hourly|avg_transaction_amount_hourly|\n",
      "+---+----+-----+-------------------------+-----------------------------+\n",
      "|347|  12| 1255|                 569136.0|           453.49482071713146|\n",
      "|347|  13| 1782|                 800566.0|            449.2514029180696|\n",
      "|347|  14| 1801|                 826169.0|            458.7279289283731|\n",
      "|347|  15| 1783|                 804968.0|            451.4683118339877|\n",
      "|347|  16|  364|                 152121.0|           417.91483516483515|\n",
      "+---+----+-----+-------------------------+-----------------------------+\n",
      "\n"
     ]
    },
    {
     "name": "stderr",
     "output_type": "stream",
     "text": [
      "                                                                                \r"
     ]
    }
   ],
   "source": [
    "transactions_per_hour_per_day = transactions.withColumn(\"day\", dayofyear(transactions[\"time_of_purchase\"])).withColumn(\"hour\", hour(transactions[\"time_of_purchase\"]))\n",
    "daily_hourly_row_count = transactions_per_hour_per_day.groupBy(\"day\", \"hour\").count().orderBy(\"day\", \"hour\")\n",
    "hourly_total_transactions = transactions_per_hour_per_day.groupBy(\"day\", \"hour\").agg(sum(\"transaction_amount\").alias(\"total_transactions_hourly\"))\n",
    "hourly_avg_transaction_amount = transactions_per_hour_per_day.groupBy(\"day\", \"hour\").agg(avg(\"transaction_amount\").alias(\"avg_transaction_amount_hourly\"))\n",
    "combined_data = daily_hourly_row_count.join(hourly_total_transactions, ['day', 'hour'], \"left_outer\") \\\n",
    "    .join(hourly_avg_transaction_amount, ['day', 'hour'], \"left_outer\") \\\n",
    "    .orderBy(\"day\", \"hour\")\n",
    "combined_data.show()"
   ]
  },
  {
   "cell_type": "markdown",
   "metadata": {},
   "source": [
    "## Exercise One"
   ]
  },
  {
   "cell_type": "code",
   "execution_count": 43,
   "metadata": {},
   "outputs": [
    {
     "name": "stdout",
     "output_type": "stream",
     "text": [
      "+--------------+-------------------+----------+------------------+------------------+\n",
      "|store_location|   time_of_purchase|product_ID|transaction_amount| discounted_amount|\n",
      "+--------------+-------------------+----------+------------------+------------------+\n",
      "|       Chicago|2023-12-13 12:18:39|    P00046|             306.0|275.40000000000003|\n",
      "|       Phoenix|2023-12-13 12:18:41|    P00052|             452.0|             406.8|\n",
      "|       Chicago|2023-12-13 12:18:43|    P00058|             527.0|             474.3|\n",
      "|       Chicago|2023-12-13 12:18:46|    P00012|             426.0|383.40000000000003|\n",
      "|       Phoenix|2023-12-13 12:18:48|    P00092|             621.0|             558.9|\n",
      "|       Houston|2023-12-13 12:18:51|    P00054|             775.0|             697.5|\n",
      "|      New York|2023-12-13 12:18:53|    P00003|             529.0|             476.1|\n",
      "|      New York|2023-12-13 12:18:56|    P00077|             834.0|             750.6|\n",
      "|       Houston|2023-12-13 12:18:59|    P00085|             285.0|             256.5|\n",
      "|       Phoenix|2023-12-13 12:19:01|    P00008|             731.0|             657.9|\n",
      "|  Philadelphia|2023-12-13 12:19:03|    P00070|             615.0|             553.5|\n",
      "|       Phoenix|2023-12-13 12:19:04|    P00041|             574.0|             516.6|\n",
      "|       Houston|2023-12-13 12:19:07|    P00042|             676.0|             608.4|\n",
      "|   San Antonio|2023-12-13 12:19:08|    P00043|             526.0|473.40000000000003|\n",
      "|       Chicago|2023-12-13 12:19:10|    P00060|             584.0|             525.6|\n",
      "|  Philadelphia|2023-12-13 12:19:13|    P00041|             797.0| 717.3000000000001|\n",
      "|   Los Angeles|2023-12-13 12:19:15|    P00032|             413.0|             371.7|\n",
      "|   San Antonio|2023-12-13 12:19:17|    P00005|             293.0|             263.7|\n",
      "|       Phoenix|2023-12-13 12:19:20|    P00080|             522.0|             469.8|\n",
      "|       Chicago|2023-12-13 12:19:21|    P00039|             416.0|374.40000000000003|\n",
      "+--------------+-------------------+----------+------------------+------------------+\n",
      "only showing top 20 rows\n",
      "\n"
     ]
    },
    {
     "name": "stderr",
     "output_type": "stream",
     "text": [
      "                                                                                \r"
     ]
    }
   ],
   "source": [
    "with_discount = transactions.withColumn(\"discounted_amount\", col(\"transaction_amount\") * 0.9)\n",
    "with_discount.show()"
   ]
  },
  {
   "cell_type": "code",
   "execution_count": 47,
   "metadata": {},
   "outputs": [],
   "source": [
    "physical_transactions = with_discount.filter(with_discount.store_location != \"online\")"
   ]
  },
  {
   "cell_type": "markdown",
   "metadata": {},
   "source": [
    "# Plots"
   ]
  },
  {
   "cell_type": "code",
   "execution_count": 49,
   "metadata": {},
   "outputs": [
    {
     "data": {
      "text/plain": [
       "<Figure size 1200x600 with 0 Axes>"
      ]
     },
     "metadata": {},
     "output_type": "display_data"
    },
    {
     "data": {
      "image/png": "[encoded data removed]",
      "text/plain": [
       "<Figure size 640x480 with 1 Axes>"
      ]
     },
     "metadata": {},
     "output_type": "display_data"
    },
    {
     "name": "stderr",
     "output_type": "stream",
     "text": [
      "                                                                                \r"
     ]
    }
   ],
   "source": [
    "\n",
    "# Grouping and Aggregating\n",
    "store_sales = physical_transactions.groupBy(\"store_location\") \\\n",
    "    .agg(sum(\"discounted_amount\").alias(\"total_sales\"))\n",
    "\n",
    "# Convert to Pandas DataFrame for plotting\n",
    "store_sales_pd = store_sales.toPandas()\n",
    "\n",
    "# Plot\n",
    "import matplotlib.pyplot as plt\n",
    "\n",
    "plt.figure(figsize=(12, 6))\n",
    "store_sales_pd.plot(kind='bar', x='store_location', y='total_sales', legend=False, color='skyblue')\n",
    "plt.ylabel('Total Discounted Sales')\n",
    "plt.title('Total Discounted Sales per Store Location')\n",
    "plt.xticks(rotation=45)\n",
    "plt.tight_layout()\n",
    "plt.show()"
   ]
  }
 ],
 "metadata": {
  "kernelspec": {
   "display_name": "Python 3",
   "language": "python",
   "name": "python3"
  },
  "language_info": {
   "codemirror_mode": {
    "name": "ipython",
    "version": 3
   },
   "file_extension": ".py",
   "mimetype": "text/x-python",
   "name": "python",
   "nbconvert_exporter": "python",
   "pygments_lexer": "ipython3",
   "version": "3.7.16"
  }
 },
 "nbformat": 4,
 "nbformat_minor": 2
}
